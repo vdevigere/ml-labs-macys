{
 "cells": [
  {
   "cell_type": "markdown",
   "metadata": {},
   "source": [
    "<link rel='stylesheet' href='../assets/css/main.css'/>\n",
    "\n",
    "[<< back to main index](../README.md)\n",
    "\n",
    "# Logistic Regression in Python  - Credit Card Approval (Demo)\n",
    "\n",
    "### Overview\n",
    "Instructor to demo this on screen.\n",
    " \n",
    "### Builds on\n",
    "None\n",
    "\n",
    "### Run time\n",
    "approx. 20-30 minutes\n",
    "\n",
    "### Notes\n",
    "\n",
    "Scikit-Learn has a logistic regression function called Logistic Regression."
   ]
  },
  {
   "cell_type": "markdown",
   "metadata": {},
   "source": [
    "## Step 1 : Load imports"
   ]
  },
  {
   "cell_type": "code",
   "execution_count": null,
   "metadata": {
    "attributes": {
     "classes": [
      "R"
     ],
     "id": ""
    }
   },
   "outputs": [],
   "source": [
    "%matplotlib inline\n",
    "\n",
    "import time\n",
    "import numpy as np\n",
    "import matplotlib.pyplot as plt\n",
    "import pandas as pd\n"
   ]
  },
  {
   "cell_type": "markdown",
   "metadata": {},
   "source": [
    "## Step 2 : Sigmoid Curve\n",
    "\n",
    "In logistic regression, we often use a sigmoid activation function.  Let's generate a sigmoid curve in python! \n",
    "\n",
    "**=>TODO: complete the code to get a sigmoid! **"
   ]
  },
  {
   "cell_type": "code",
   "execution_count": null,
   "metadata": {
    "attributes": {
     "classes": [
      "R"
     ],
     "id": ""
    },
    "scrolled": false
   },
   "outputs": [],
   "source": [
    "import numpy as np\n",
    "# plot sigmoid curve\n",
    "x = np.arange(-10.,10.,1.)\n",
    "b = 0 # intercept\n",
    "m = 1 # slope\n",
    "sigmoid = lambda x,b,m: np.exp((b + m*x)) / (1 + np.exp((b + m*x)))\n",
    "y = sigmoid(x,b,m)\n",
    "\n",
    "## hint : scatter (x,y)\n",
    "plt.scatter(x,y) \n",
    "plt.title(\"Sigmoid (Logistic) Function\")"
   ]
  },
  {
   "cell_type": "markdown",
   "metadata": {},
   "source": [
    "\n",
    "## Step 3: Credit Approval Data"
   ]
  },
  {
   "cell_type": "markdown",
   "metadata": {},
   "source": [
    "Here is the sample data we are looking at:\n",
    "\n",
    "| score | approved | \n",
    "|-------|----------| \n",
    "| 550   | 0        | \n",
    "| 750   | 1        | \n",
    "| 680   | 1        | \n",
    "| 650   | 0        | \n",
    "| 450   | 0        | \n",
    "| 800   | 1        | \n",
    "| 775   | 1        | \n",
    "| 525   | 0        | \n",
    "| 620   | 0        | \n",
    "| 705   | 0        | \n",
    "| 830   | 1        | \n",
    "| 610   | 1        | \n",
    "| 690   | 0        | \n"
   ]
  },
  {
   "cell_type": "markdown",
   "metadata": {},
   "source": [
    "## Step 4: Let's visualize the data"
   ]
  },
  {
   "cell_type": "code",
   "execution_count": null,
   "metadata": {
    "attributes": {
     "classes": [
      "R"
     ],
     "id": ""
    }
   },
   "outputs": [],
   "source": [
    "credit_approval = pd.DataFrame({'score' : [550., 750., 680., 650., 450., 800., 775., 525., 620., 705., 830., 610., 690.],\n",
    "              'approved' : [0,1,1,0,0,1,1,0,0,0,1,1,0]\n",
    "             })\n",
    "\n",
    "credit_approval"
   ]
  },
  {
   "cell_type": "markdown",
   "metadata": {},
   "source": [
    "## Step 5: Let us plot and visualize the sample data.\n",
    "\n",
    "**=> Run a scatterplot with score on the X axis and approved on the y axis **"
   ]
  },
  {
   "cell_type": "code",
   "execution_count": null,
   "metadata": {},
   "outputs": [],
   "source": [
    "## Hint x = credit_approval.score,   y = credit_approval.approved\n",
    "plt.scatter(credit_approval.???,credit_approval.???)\n",
    "plt.xlabel('score')\n",
    "plt.ylabel('approved')"
   ]
  },
  {
   "cell_type": "code",
   "execution_count": null,
   "metadata": {},
   "outputs": [],
   "source": [
    "x = credit_approval.score.values.reshape(-1,1)\n",
    "y =  credit_approval.approved.values"
   ]
  },
  {
   "cell_type": "markdown",
   "metadata": {},
   "source": [
    "\n",
    "## Step 7: Fit logistic regression\n",
    "\n",
    "Now it's time to fit our logistic regression model.  This is a linear model, so we will be getting the coefficients and intercept.\n",
    "\n",
    "**=> Run Logistic Regression with 50 iterations. **\n",
    "\n"
   ]
  },
  {
   "cell_type": "code",
   "execution_count": null,
   "metadata": {},
   "outputs": [],
   "source": [
    "from sklearn.linear_model import LogisticRegression\n",
    "lr = LogisticRegression()\n",
    " \n",
    "# Fit the model\n",
    "lrModel = lr.fit(credit_approval.score.values.reshape(-1,1), \n",
    "                 credit_approval.approved.values)\n"
   ]
  },
  {
   "cell_type": "code",
   "execution_count": null,
   "metadata": {},
   "outputs": [],
   "source": [
    "lrModel.coef_[0],lrModel.intercept_[0]"
   ]
  },
  {
   "cell_type": "markdown",
   "metadata": {},
   "source": [
    "The output lists approval & estimated probabilities"
   ]
  },
  {
   "cell_type": "markdown",
   "metadata": {},
   "source": [
    "## Step 8 : Evaluate The Model\n"
   ]
  },
  {
   "cell_type": "markdown",
   "metadata": {},
   "source": [
    "### 8.1 Confusion Matrix\n",
    "**=> TODO : Can you interpret the confusion matrix?**"
   ]
  },
  {
   "cell_type": "code",
   "execution_count": null,
   "metadata": {},
   "outputs": [],
   "source": [
    "from sklearn.metrics import confusion_matrix\n",
    "\n",
    "predictions = lrModel.predict(credit_approval.score.values.reshape(-1,1))\n",
    "confusion_matrix(credit_approval.approved.values, predictions)"
   ]
  },
  {
   "cell_type": "markdown",
   "metadata": {},
   "source": [
    "### 8.2 : ROC curve and AUC (Area Under Curve)\n",
    "\n",
    "**=> TODO: What is the meaning of the ROC curve?  How is the AUC calculated? **"
   ]
  },
  {
   "cell_type": "code",
   "execution_count": null,
   "metadata": {},
   "outputs": [],
   "source": [
    "from sklearn.metrics import roc_curve, auc\n",
    "\n",
    "fpr, tpr, thresholds = roc_curve(y, predictions)\n",
    "roc_auc = auc(fpr, tpr)\n"
   ]
  },
  {
   "cell_type": "code",
   "execution_count": null,
   "metadata": {},
   "outputs": [],
   "source": [
    "plt.title('Receiver Operating Characteristic')\n",
    "plt.plot(fpr, tpr, 'b',\n",
    "label='AUC = %0.2f'% roc_auc)\n",
    "plt.legend(loc='lower right')\n",
    "plt.plot([0,1],[0,1],'r--')\n",
    "plt.xlim([-0.1,1.2])\n",
    "plt.ylim([-0.1,1.2])\n",
    "plt.ylabel('True Positive Rate')\n",
    "plt.xlabel('False Positive Rate')\n",
    "plt.show()\n"
   ]
  },
  {
   "cell_type": "code",
   "execution_count": null,
   "metadata": {},
   "outputs": [],
   "source": [
    "from sklearn.metrics import accuracy_score\n",
    "    "
   ]
  },
  {
   "cell_type": "markdown",
   "metadata": {},
   "source": [
    "## Step 9: Visualize data and logit model\n",
    "\n",
    "Let's visualize the data and our model."
   ]
  },
  {
   "cell_type": "code",
   "execution_count": null,
   "metadata": {},
   "outputs": [],
   "source": [
    "plt.scatter(credit_approval.score, credit_approval.approved)\n",
    "plt.xlabel('score')\n",
    "plt.ylabel('approved')\n"
   ]
  },
  {
   "cell_type": "markdown",
   "metadata": {
    "collapsed": true
   },
   "source": [
    "## Step 10: Let's create some new test data and make predictions"
   ]
  },
  {
   "cell_type": "code",
   "execution_count": null,
   "metadata": {},
   "outputs": [],
   "source": [
    "newdata = pd.DataFrame({'score' : [600., 700., 810.]\n",
    "             })\n",
    "print(newdata)\n",
    "\n",
    "lrmodel.predict(newdata.values)"
   ]
  },
  {
   "cell_type": "markdown",
   "metadata": {},
   "source": [
    "**=> TODO: Try adding your own test data  **\n"
   ]
  },
  {
   "cell_type": "code",
   "execution_count": null,
   "metadata": {},
   "outputs": [],
   "source": [
    "# TODO: Enter your test data here and re=run.\n"
   ]
  }
 ],
 "metadata": {
  "kernelspec": {
   "display_name": "Python 3",
   "language": "python",
   "name": "python3"
  },
  "language_info": {
   "codemirror_mode": {
    "name": "ipython",
    "version": 3
   },
   "file_extension": ".py",
   "mimetype": "text/x-python",
   "name": "python",
   "nbconvert_exporter": "python",
   "pygments_lexer": "ipython3",
   "version": "3.6.5"
  }
 },
 "nbformat": 4,
 "nbformat_minor": 2
}
