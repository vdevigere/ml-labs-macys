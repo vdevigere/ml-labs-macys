{
 "cells": [
  {
   "cell_type": "markdown",
   "metadata": {},
   "source": [
    "<link rel='stylesheet' href='../assets/css/main.css'/>\n",
    "\n",
    "[<< back to main index](../README.md)\n",
    "\n",
    "# Multiple Linear Regression Lab 5 : House Prices\n",
    "\n",
    "### Overview\n",
    "Estimate house prices using MLR\n",
    "\n",
    "### Builds on\n",
    "None\n",
    "\n",
    "### Run time\n",
    "approx. 20 minutes\n",
    "\n",
    "### Notes\n",
    "\n"
   ]
  },
  {
   "cell_type": "code",
   "execution_count": null,
   "metadata": {
    "collapsed": true
   },
   "outputs": [],
   "source": [
    "%matplotlib inline\n",
    "\n",
    "import numpy as np\n",
    "import pandas as pd\n",
    "import matplotlib.pyplot as plt\n",
    "from sklearn.linear_model import LinearRegression"
   ]
  },
  {
   "cell_type": "markdown",
   "metadata": {},
   "source": [
    "\n",
    "## Step 1 : House data"
   ]
  },
  {
   "cell_type": "code",
   "execution_count": null,
   "metadata": {
    "attributes": {
     "classes": [
      "R"
     ],
     "id": ""
    },
    "scrolled": true
   },
   "outputs": [],
   "source": [
    "housePrices = pd.read_csv(\"/data/house-prices/house-sales-full.csv\")\n",
    "housePrices"
   ]
  },
  {
   "cell_type": "markdown",
   "metadata": {},
   "source": [
    "Wow! That's a lot of columns.  Maybe we should foucs on just a few of them.\n",
    "\n",
    "**=> Select only \"SalePrice\", \"Bedrooms\", \"Bathrooms\", \"SqFtTotLiving\", \"SqFtLot\" **"
   ]
  },
  {
   "cell_type": "code",
   "execution_count": null,
   "metadata": {
    "scrolled": true
   },
   "outputs": [],
   "source": [
    "# TODO: select only \"SalePrice\", \"Bedrooms\", \"Bathrooms\", \"SqFtTotLiving\", \"SqFtLot\"\n",
    "housePrices_small = housePrices[[\"???\", \"???\", \"???\", \"???\", \"???\"]]\n",
    "\n",
    "\n",
    "housePrices_small"
   ]
  },
  {
   "cell_type": "markdown",
   "metadata": {},
   "source": [
    "## Step 2: Create Features and Label Column in Dataframe\n",
    "\n",
    "We will create our \"features\" column, which is of type vector, and our label column, for which we can just reuse the SquareFootage column.\n",
    "\n",
    "**=> Build features with  \"Bedrooms\", \"Bathrooms\", \"SqFtTotLiving\", \"SqFtLot\" **\n",
    "\n",
    "**=> Rename SalePrice as \"label\" **\n",
    "\n"
   ]
  },
  {
   "cell_type": "code",
   "execution_count": null,
   "metadata": {
    "attributes": {
     "classes": [
      "R"
     ],
     "id": ""
    }
   },
   "outputs": [],
   "source": [
    "housePrices_small.iloc[:,1:]"
   ]
  },
  {
   "cell_type": "markdown",
   "metadata": {},
   "source": [
    "##  Step 3: Run the Linear Regression Model\n",
    "\n",
    "**=> Run model with max iterations as 10, regParam=0.3, elasticNetParam=0.8 **\n"
   ]
  },
  {
   "cell_type": "code",
   "execution_count": null,
   "metadata": {},
   "outputs": [],
   "source": [
    "## Step 3: Run the Linear Regression Model\n",
    "lr = LinearRegression()\n",
    "lrModel = lr.fit(housePrices_small.iloc[:,1:], housePrices_small.iloc[:,0])\n",
    "\n",
    "print(\"Coefficients: \" + str(lrModel.coef_))\n",
    "print(\"Intercept: \" + str(lrModel.intercept_))"
   ]
  },
  {
   "cell_type": "markdown",
   "metadata": {},
   "source": [
    "**=> What is the meaning of coefficients and intercept? **"
   ]
  },
  {
   "cell_type": "code",
   "execution_count": null,
   "metadata": {},
   "outputs": [],
   "source": [
    "from sklearn.metrics import classification_report\n"
   ]
  },
  {
   "cell_type": "markdown",
   "metadata": {},
   "source": [
    "**Observe the summary output**\n",
    "\n",
    "## Step 3:  Predict some home prices\n",
    "Create a new data frame with the following data"
   ]
  },
  {
   "cell_type": "code",
   "execution_count": null,
   "metadata": {
    "attributes": {
     "classes": [
      "R"
     ],
     "id": ""
    },
    "collapsed": true
   },
   "outputs": [],
   "source": [
    "\n",
    "# Make a Pandas dataframe\n",
    "new_data = pd.DataFrame({'Bedrooms' : [5,3,2],\n",
    "                         'Bathrooms' : [3,2,1.5],\n",
    "                         'SqFtTotLiving' : [4400, 1800, 1550],\n",
    "                         'SqFtLot' : [10000, 5000, 4000]\n",
    "             })\n",
    "\n",
    "\n"
   ]
  },
  {
   "cell_type": "markdown",
   "metadata": {},
   "source": [
    "## Step 4: Run on some prediction data\n",
    "\n",
    "Lets see the predicted output.\n",
    "\n",
    "**=>TODO: transform dataframe with new dataframe (.values) to get predictions **"
   ]
  },
  {
   "cell_type": "code",
   "execution_count": null,
   "metadata": {
    "attributes": {
     "classes": [
      "R"
     ],
     "id": ""
    }
   },
   "outputs": [],
   "source": [
    "predicted_prices = lrModel.predict(???.values)\n",
    "predicted_prices"
   ]
  },
  {
   "cell_type": "code",
   "execution_count": null,
   "metadata": {
    "collapsed": true
   },
   "outputs": [],
   "source": []
  }
 ],
 "metadata": {
  "kernelspec": {
   "display_name": "Python 3",
   "language": "python",
   "name": "python3"
  },
  "language_info": {
   "codemirror_mode": {
    "name": "ipython",
    "version": 3
   },
   "file_extension": ".py",
   "mimetype": "text/x-python",
   "name": "python",
   "nbconvert_exporter": "python",
   "pygments_lexer": "ipython3",
   "version": "3.5.4"
  }
 },
 "nbformat": 4,
 "nbformat_minor": 2
}
