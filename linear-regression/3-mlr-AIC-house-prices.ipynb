{
 "cells": [
  {
   "cell_type": "markdown",
   "metadata": {},
   "source": [
    "<link rel='stylesheet' href='../assets/css/main.css'/>\n",
    "\n",
    "[<< back to main index](../README.md)\n",
    "\n",
    "# Multiple Linear Regression Lab 6 : Akaike’s Information Criteria (AIC)\n",
    "\n",
    "### Overview\n",
    "Figure out which attributes to include using AIC\n",
    "\n",
    "### Builds on\n",
    "None\n",
    "\n",
    "### Run time\n",
    "approx. 20 minutes\n",
    "\n",
    "### Notes\n",
    "\n"
   ]
  },
  {
   "cell_type": "code",
   "execution_count": null,
   "metadata": {
    "collapsed": true
   },
   "outputs": [],
   "source": [
    "%matplotlib inline\n",
    "\n",
    "import numpy as np\n",
    "import pandas as pd\n",
    "import matplotlib.pyplot as plt\n",
    "import statsmodels.formula.api as smf"
   ]
  },
  {
   "cell_type": "markdown",
   "metadata": {},
   "source": [
    "\n",
    "## Step 1 : House data"
   ]
  },
  {
   "cell_type": "code",
   "execution_count": null,
   "metadata": {
    "attributes": {
     "classes": [
      "R"
     ],
     "id": ""
    }
   },
   "outputs": [],
   "source": [
    "housePrices = pd.read_csv(\"/data/house-prices/house-sales-full.csv\")\n",
    "housePrices.show()"
   ]
  },
  {
   "cell_type": "markdown",
   "metadata": {},
   "source": [
    "## Step 2: Apply an R formula for Feature Extraction\n",
    "\n",
    "R users will be familiar with the concept of the **formula**.  The formula has a lot of features, but in its most basic form what it consists of is the following:\n",
    "\n",
    "```\n",
    " y-variable ~ x-variable1 + xvariable2 + ....\n",
    "```\n",
    "\n",
    "basically, the y variable is the variable we are trying to predict, while the x variable(s) are the variables \n",
    "that we are using to make the prediction.  There are some complexities but that's the gist of it.\n",
    "\n",
    "In the process, R will convert all categorical variables using one-hot encoding, and index strings.  Remember, features in spark are only allowed to be numeric (doubles).  NAs are also forbidden, so those are converted as well.\n",
    "\n",
    "**=>TODO: instantiate R formula with formula tex tand features column = \"features\" **"
   ]
  },
  {
   "cell_type": "code",
   "execution_count": null,
   "metadata": {},
   "outputs": [],
   "source": [
    "#lm(SalePrice ~ SqFtTotLiving + SqFtLot + Bathrooms + Bedrooms + BldgGrade + PropertyType + NbrLivingUnits + SqFtFinBasement + YrBuilt + YrRenovated + NewConstruction,\n",
    "#              data = house.prices, na.action = na.omit)\n",
    "  \n",
    "\n",
    "variables = ['SqFtTotLiving', 'SqFtLot', 'Bathrooms', 'Bedrooms', 'BldgGrade', 'PropertyType',\n",
    "               'NbrLivingUnits', 'SqFtFinBasement', 'YrBuilt', 'YrRenovated', 'NewConstruction']\n",
    "\n",
    "textFormula = \"SalePrice ~ SqFtTotLiving + SqFtLot + Bathrooms + Bedrooms + BldgGrade + PropertyType + \\\n",
    "               NbrLivingUnits + SqFtFinBasement + YrBuilt + YrRenovated + NewConstruction\"\n"
   ]
  },
  {
   "cell_type": "markdown",
   "metadata": {},
   "source": [
    "## Step 2: Run MLR With All Attributes"
   ]
  },
  {
   "cell_type": "code",
   "execution_count": null,
   "metadata": {
    "attributes": {
     "classes": [
      "R"
     ],
     "id": ""
    },
    "collapsed": true
   },
   "outputs": [],
   "source": [
    "res = smf.ols(formula=textFormula, data=housePrices).fit()\n",
    "res.summary()"
   ]
  },
  {
   "cell_type": "markdown",
   "metadata": {},
   "source": [
    "**Inspect the summary output**\n",
    "\n",
    "**=>TODO: What can we say about our model in terms of evaluation? **"
   ]
  },
  {
   "cell_type": "markdown",
   "metadata": {},
   "source": [
    "## Step 3:  Run AIC calculation\n",
    "\n",
    "We can do some parameter tuning here. In general, lower AIC is better.  By removing certain variables from the mix, we can get lower AICs and therefore a better model.\n",
    "\n",
    "But how can we do this?  Let's programatically generate model combinations, and then run them. We're looking at all combinations of 8 variables out of 11, so that's 165 combinations.\n",
    "\n",
    "**=>TODO: Run a loop of all combinations of 8 variables or more. Watch the output. Which is optimal? **"
   ]
  },
  {
   "cell_type": "code",
   "execution_count": null,
   "metadata": {
    "attributes": {
     "classes": [
      "R"
     ],
     "id": ""
    }
   },
   "outputs": [],
   "source": [
    "import itertools\n",
    "\n",
    "def formulaGen(xvars, yvar):\n",
    "    returnformula = yvar + \" ~ \"\n",
    "    length = len(xvars)\n",
    "    for xvar in xvars:\n",
    "        returnformula = returnformula + xvar;\n",
    "        length -= 1\n",
    "        if (length != 0):\n",
    "            returnformula = returnformula + \" + \"\n",
    "        \n",
    "    return returnformula\n",
    "\n",
    "min_aic = res.aic\n",
    "min_model = res\n",
    "min_formula = textFormula\n",
    "\n",
    "for L in range(8, len(variables)): #Find all combinations of minimum 8 variables\n",
    "  for subset in itertools.combinations(variables, L):\n",
    "    this_formula = formulaGen(subset, 'SalePrice')\n",
    "    res = smf.ols(formula=this_formula, data=housePrices).fit()\n",
    "    if (res.aic < min_aic):\n",
    "        min_aic = res.aic\n",
    "        min_model = res\n",
    "        min_formula = this_formula\n",
    "        print(\"New Lowest AIC found:\" + str(min_aic))\n",
    "\n",
    "print(min_formula)\n",
    "print(\"AIC:\" + str(min_aic))\n",
    "# Summarize the model over the training set and print out some metrics\n",
    "min_model.summary()\n",
    "\n"
   ]
  },
  {
   "cell_type": "markdown",
   "metadata": {},
   "source": [
    "**Observe the formula, which attributes are included / dropped**"
   ]
  }
 ],
 "metadata": {
  "kernelspec": {
   "display_name": "Python 3",
   "language": "python",
   "name": "python3"
  },
  "language_info": {
   "codemirror_mode": {
    "name": "ipython",
    "version": 3
   },
   "file_extension": ".py",
   "mimetype": "text/x-python",
   "name": "python",
   "nbconvert_exporter": "python",
   "pygments_lexer": "ipython3",
   "version": "3.5.4"
  }
 },
 "nbformat": 4,
 "nbformat_minor": 2
}
